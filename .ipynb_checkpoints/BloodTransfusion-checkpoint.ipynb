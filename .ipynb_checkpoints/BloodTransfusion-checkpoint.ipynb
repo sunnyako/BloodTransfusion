{
 "cells": [
  {
   "cell_type": "markdown",
   "metadata": {
    "deletable": true,
    "editable": true
   },
   "source": [
    "Collect all the equipment needed for the procedure and place it within safe and easy reach on a tray or trolley, ensuring that all the items are clearly visible. The equipment required includes:\n",
    "a supply of laboratory sample tubes, which should be stored dry and upright in a rack\n",
    "vacuum-extraction blood tubes; or\n",
    "well-fitting, non-sterile gloves;\n",
    "an assortment of blood-sampling devices (safety-engineered devices or needles and syringes, see below), of different sizes;\n",
    "a tourniquet;\n",
    "alcohol hand rub;\n",
    "70% alcohol swabs for skin disinfection;\n",
    "gauze or cotton-wool ball to be applied over puncture site;\n",
    "laboratory specimen labels;\n",
    "writing equipment;\n",
    "laboratory forms;\n",
    "leak-proof transportation bags and containers;\n",
    "a puncture-resistant sharps container.\n"
   ]
  },
  {
   "cell_type": "code",
   "execution_count": null,
   "metadata": {
    "collapsed": false,
    "deletable": true,
    "editable": true
   },
   "outputs": [],
   "source": []
  },
  {
   "cell_type": "code",
   "execution_count": null,
   "metadata": {
    "collapsed": false,
    "deletable": true,
    "editable": true
   },
   "outputs": [
    {
     "name": "stdout",
     "output_type": "stream",
     "text": [
      "Are you ready to start? Yes\n",
      "['do you have a supply of laboratory sample tubes?']\n",
      ">> Yes\n",
      "['do you have vacuum-extraction blood tubes?']\n",
      ">> No\n",
      "Ask your supervisor or refer back to your medical training! Or consult this website: https://www.ncbi.nlm.nih.gov/books/NBK138665/\n",
      "Are you ready to continue?Yes\n",
      "['do you have your well-fitting and non-sterile gloves?']\n",
      ">> Yes\n",
      "['do you have a tourniquet?']\n",
      ">> No\n",
      "Ask your supervisor or refer back to your medical training! Or consult this website: https://www.ncbi.nlm.nih.gov/books/NBK138665/\n",
      "Are you ready to continue?Yes\n",
      "['do you have 70% alcohol swabs for skin disinfection?']\n",
      ">> No\n",
      "Ask your supervisor or refer back to your medical training! Or consult this website: https://www.ncbi.nlm.nih.gov/books/NBK138665/\n",
      "Are you ready to continue?Yes\n",
      "['do you have gauze or cotton-wool ball', 'Check on the patient to make sure they are feeling well.']\n",
      ">> No\n",
      "Ask your supervisor or refer back to your medical training! Or consult this website: https://www.ncbi.nlm.nih.gov/books/NBK138665/\n"
     ]
    }
   ],
   "source": [
    "def main():\n",
    "    global step_iteration, stage_iteration, count\n",
    "    count = 0\n",
    "    x = input(\"Are you ready to start? \");\n",
    "    #we need to get back to here\n",
    "    while x ==\"Yes\":\n",
    "        respond_to(x, count);\n",
    "        x=input(\">> \");\n",
    "        count = count + 1 \n",
    "    #if the user answers no, do the following\n",
    "    while x != \"Yes\":\n",
    "        print(\"Ask your supervisor or refer back to your medical training! Or consult this website: https://www.ncbi.nlm.nih.gov/books/NBK138665/\")\n",
    "        x = input(\"Are you ready to continue?\" )\n",
    "        while x ==\"Yes\":\n",
    "            respond_to(x, count);\n",
    "            x=input(\">> \");\n",
    "            count = count + 1 \n",
    "            \n",
    "\n",
    "def respond_to(x, count):\n",
    "    #1st stage\n",
    "    steps = [{'step':0, 'command':'do you have a supply of laboratory sample tubes?'},\n",
    "{'step':1, 'command':'do you have vacuum-extraction blood tubes?', 'stage':1},\n",
    "{'step':2, 'command':'do you have your well-fitting and non-sterile gloves?', 'stage':1},\n",
    "{'step':3, 'command':'do you have a tourniquet?', 'stage':1},\n",
    "{'step':4, 'command':'do you have 70% alcohol swabs for skin disinfection?', 'stage':1},\n",
    "{'step':5, 'command':'do you have gauze or cotton-wool ball', 'stage':1},\n",
    "{'step':6, 'command':'do you have laboratory specimen labels?', 'stage':1},\n",
    "{'step':7, 'command':'do you have writing equipment?', 'stage':1},\n",
    "{'step':8, 'command':'do you have the proper laboratory forms?', 'stage':1},\n",
    "{'step':9, 'command':'do you have leak-proof transportation bags and containers?', 'stage':1},\n",
    "{'step':10, 'command':'do you have a puncture-resistant sharps container?', 'stage':1},\n",
    "   #final stage          \n",
    "{'step':11, 'command':'Discard the used needle and syringe into a puncture resistant sharps container.', 'stage':5},\n",
    "{'step':12, 'command':'Check the label and forms for accuracy.', 'stage':5},\n",
    "{'step':13, 'command':'Discard used items into the appropriate category of waste. Perform hand hygiene again.'},\n",
    "{'step':14, 'command':'Recheck the labels on the tubes and the forms before dispatch.'},\n",
    "{'step':5, 'command':'Check on the patient to make sure they are feeling well.'},\n",
    "{'step':6, 'command':'Check  the insertion site to verify that it is not bleeding.'},\n",
    "{'step':7, 'command':'Reassure the patient and say some words of encouragement before the person leaves.'}\n",
    "            ]\n",
    "    \n",
    "    answer = [n['command'] for n in steps if n['step'] == count]\n",
    "    print(answer)\n",
    "\n",
    "main()\n"
   ]
  },
  {
   "cell_type": "code",
   "execution_count": 5,
   "metadata": {
    "collapsed": false,
    "deletable": true,
    "editable": true
   },
   "outputs": [
    {
     "name": "stdout",
     "output_type": "stream",
     "text": [
      "To create and print a label, fill in the following information: \n",
      "Patient's Last Name: dfas\n",
      "Patient's First Name: dga\n",
      "File Number: fga\n",
      "Patient's Date of Birth: g\n",
      "Date Blood was Taken: dfg\n",
      "Time Blood was Taken: sdfh\n",
      "Your label is :  ['dfas', 'dga', 'fga']\n"
     ]
    }
   ],
   "source": [
    "\"\"\"Check the label and forms for accuracy.\n",
    "The label should be clearly written with the information\n",
    "required by the laboratory, which is typically the patient's\n",
    "first and last names, file number, date of birth, and the date\n",
    "and time when the blood was taken.\"\"\"\n",
    "\n",
    "if __name__ ==\"__main__\":\n",
    "    print(\"To create and print a label, fill in the following information: \")\n",
    "    last_name=input(\"Patient's Last Name: \");\n",
    "    first_name=input(\"Patient's First Name: \");\n",
    "    file_number=input(\"File Number: \");\n",
    "    d_o_b=input(\"Patient's Date of Birth: \")\n",
    "    date=input(\"Date Blood was Taken: \")\n",
    "    time=input(\"Time Blood was Taken: \")\n",
    "\n",
    "label = [last_name, first_name, file_number]\n",
    "print(\"Your label is : \", label)"
   ]
  },
  {
   "cell_type": "code",
   "execution_count": null,
   "metadata": {
    "collapsed": true,
    "deletable": true,
    "editable": true
   },
   "outputs": [],
   "source": []
  },
  {
   "cell_type": "code",
   "execution_count": null,
   "metadata": {
    "collapsed": true,
    "deletable": true,
    "editable": true
   },
   "outputs": [],
   "source": []
  }
 ],
 "metadata": {
  "kernelspec": {
   "display_name": "Python 3",
   "language": "python",
   "name": "python3"
  },
  "language_info": {
   "codemirror_mode": {
    "name": "ipython",
    "version": 3
   },
   "file_extension": ".py",
   "mimetype": "text/x-python",
   "name": "python",
   "nbconvert_exporter": "python",
   "pygments_lexer": "ipython3",
   "version": "3.6.0"
  }
 },
 "nbformat": 4,
 "nbformat_minor": 2
}
